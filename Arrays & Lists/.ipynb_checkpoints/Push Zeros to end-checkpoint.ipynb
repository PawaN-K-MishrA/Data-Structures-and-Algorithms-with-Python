{
 "cells": [
  {
   "cell_type": "markdown",
   "metadata": {},
   "source": [
    "## Push Zeros to end\n",
    "You have been given a random integer array/list(ARR) of size N. You have been required to push all the zeros that are present in the array/list to the end of it. Also, make sure to maintain the relative order of the non-zero elements.\n",
    "##### Note:\n",
    "1.Change in the input array/list itself. You don't need to return or print the elements.    \n",
    "2.You need to do this in one scan of array only. Don't use extra space.\n",
    "#### Input format :\n",
    "The first line contains an Integer 't' which denotes the number of test cases or queries to be run. Then the test cases follow.<br>\n",
    "\n",
    "First line of each test case or query contains an integer 'N' representing the size of the array/list.<br>\n",
    "\n",
    "Second line contains 'N' single space separated integers representing the elements in the array/list.<br>\n",
    "#### Output format :\n",
    "For each test case, print the elements of the array/list in the desired order separated by a single space.<br>\n",
    "\n",
    "Output for every test case will be printed in a separate line.\n",
    "\n",
    "#### Constraints :\n",
    "1 <= t <= 10^2    \n",
    "0 <= N <= 10^5    \n",
    "Time Limit: 1 sec\n",
    "\n",
    "#### Sample Input :\n",
    "2    \n",
    "5    \n",
    "0 3 0 2 0    \n",
    "4    \n",
    "9 0 0 8 2 \n",
    "#### Sample Output :\n",
    "3 2 0 0 0    \n",
    "9 8 2 0 0 "
   ]
  },
  {
   "cell_type": "markdown",
   "metadata": {},
   "source": [
    "### Approach\n",
    "Before we discuss the approach for this question let’s see what exactly the question\n",
    "requires us to do. It seems that we have to push all the 0s in the array towards the end\n",
    "of the array. It can also be looked at as pushing all the non-zero elements in the array\n",
    "towards the beginning of the array.<br>    \n",
    "So let’s use a two pointer approach to solve this problem. We’ll maintain two pointers,\n",
    "‘current’ and ‘nonZeroPos’. ‘current’ will be used to iterate through the array and\n",
    "‘nonZeroPos’ will be used to decide the next position where the next non zero element\n",
    "will go to. Both pointers will be initialised with 0. <br>\n",
    "<br>\n",
    "Now, we’ll iterate through the array. If we encounter a 0, we’ll just increase ‘current’ by 1.\n",
    "However, if we encounter a non-zero value, we put that element to ‘nonZeroPos’ and\n",
    "bring ‘nonZeroPos’s element to the current index. Basically we’re doing\n",
    "swap(arr[current], arr[nonZeroPos]). And after this, we’ll increase both\n",
    "‘current’ and ‘nonZeroPos’ by 1. This will ensure that every non-zero element gets\n",
    "pushed towards the front of the array with their order maintained.\n"
   ]
  },
  {
   "cell_type": "code",
   "execution_count": null,
   "metadata": {},
   "outputs": [],
   "source": [
    "from sys import stdin \n",
    "def pushZerosAtEnd(arr, n) : \n",
    "    nonZero = 0 \n",
    "    for i in range(n): \n",
    "        if arr[i] != 0 : \n",
    "            temp = arr[i] \n",
    "            arr[i] = arr[nonZero] \n",
    "            arr[nonZero] = temp \n",
    "            nonZero += 1 \n",
    "            \n",
    "def takeInput() : \n",
    "    n = int(stdin.readline().rstrip()) \n",
    "    if n == 0: \n",
    "        return list(), 0 \n",
    "    arr = list(map(int, stdin.readline().rstrip().split())) \n",
    "    return arr, n \n",
    "\n",
    "def printList(arr, n) : \n",
    "    for i in range(n) : \n",
    "        print(arr[i], end = \" \") \n",
    "    print() \n",
    "    \n",
    "#main \n",
    "t = int(stdin.readline().strip())\n",
    "while t > 0 : \n",
    "    arr, n = takeInput() \n",
    "    pushZerosAtEnd(arr, n) \n",
    "    printList(arr, n) \n",
    "    t -= 1"
   ]
  }
 ],
 "metadata": {
  "kernelspec": {
   "display_name": "Python 3",
   "language": "python",
   "name": "python3"
  },
  "language_info": {
   "codemirror_mode": {
    "name": "ipython",
    "version": 3
   },
   "file_extension": ".py",
   "mimetype": "text/x-python",
   "name": "python",
   "nbconvert_exporter": "python",
   "pygments_lexer": "ipython3",
   "version": "3.7.3"
  }
 },
 "nbformat": 4,
 "nbformat_minor": 2
}
