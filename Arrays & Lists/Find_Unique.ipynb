{
 "cells": [
  {
   "cell_type": "markdown",
   "metadata": {},
   "source": [
    "## Find Unique\n",
    "Given an integer array of size 2N + 1. In this given array, N numbers are present twice and one number is present only once in the array. <br>\n",
    "Find and return that number which is unique in the array.\n",
    "##### Note : Given array will always contain odd number of elements. \n",
    "#### Input format :\n",
    "Line 1 : Array size i.e. 2N+1 <br>\n",
    "Line 2 : Array elements (separated by space) \n",
    "#### Output Format :\n",
    "Unique element present in the array \n",
    "#### Sample Input :\n",
    "7 <br>\n",
    "2 3 1 6 3 6 2\n",
    "#### Sample Output :\n",
    "1"
   ]
  },
  {
   "cell_type": "markdown",
   "metadata": {},
   "source": [
    "#### Method 1: \n",
    "For each element of the input array, you need to run a loop on the whole array, to\n",
    "check whether the same element exists or not, if it exists then we check for the next element, else\n",
    "we will return that element, as we found the unique element. <br>\n",
    "Time Complexity for this approach: Time complexity for this approach is O(n), which is not 2\n",
    "good, hence we move to the next approach."
   ]
  },
  {
   "cell_type": "code",
   "execution_count": 1,
   "metadata": {},
   "outputs": [
    {
     "name": "stdout",
     "output_type": "stream",
     "text": [
      "7\n",
      "2 3 1 6 3 6 2\n",
      "1\n"
     ]
    }
   ],
   "source": [
    "import sys \n",
    "def findUnique(arr, n) : \n",
    "    for i in range(n) : \n",
    "        j = 0 \n",
    "        while j < n :\n",
    "            if i != j : \n",
    "                if arr[i] == arr[j] :\n",
    "                    break \n",
    "            j += 1 \n",
    "        if j == n : \n",
    "            return arr[i] \n",
    "    return sys.maxsize \n",
    "\n",
    "\n",
    "#main \n",
    "n = int(input().strip()) \n",
    "if n != 0: \n",
    "    arr = [int(element) for element in list(input().strip().split())] \n",
    "    print(findUnique(arr, n))"
   ]
  },
  {
   "cell_type": "markdown",
   "metadata": {},
   "source": [
    "#### Method 2: \n",
    "We can Use Sorting to solve the problem in O(nLogn) time. The idea is simple,\n",
    "first sort the array, so that all occurrences of every element become consecutive. Once the\n",
    "occurrences become consecutive, we can traverse the sorted array and print the unique element\n",
    "in O(n) time"
   ]
  },
  {
   "cell_type": "code",
   "execution_count": null,
   "metadata": {},
   "outputs": [],
   "source": []
  },
  {
   "cell_type": "markdown",
   "metadata": {},
   "source": [
    "#### Method 3: \n",
    "The best solution is to use XOR. Taking XOR of all the elements present in the\n",
    "array, gives us the unique element present in the array."
   ]
  },
  {
   "cell_type": "code",
   "execution_count": 2,
   "metadata": {},
   "outputs": [
    {
     "name": "stdout",
     "output_type": "stream",
     "text": [
      "7\n",
      "2 3 1 6 3 6 2\n",
      "1\n"
     ]
    }
   ],
   "source": [
    "def FindUnique(arr):\n",
    "    res=arr[0]\n",
    "    for i in range(1,len(arr)):\n",
    "        res=res^arr[i]\n",
    "    return res\n",
    "        \n",
    "# Main\n",
    "n=int(input())\n",
    "arr=list(int(i) for i in input().strip().split(' '))\n",
    "unique=FindUnique(arr)\n",
    "print(unique)"
   ]
  }
 ],
 "metadata": {
  "kernelspec": {
   "display_name": "Python 3",
   "language": "python",
   "name": "python3"
  },
  "language_info": {
   "codemirror_mode": {
    "name": "ipython",
    "version": 3
   },
   "file_extension": ".py",
   "mimetype": "text/x-python",
   "name": "python",
   "nbconvert_exporter": "python",
   "pygments_lexer": "ipython3",
   "version": "3.7.3"
  }
 },
 "nbformat": 4,
 "nbformat_minor": 2
}
