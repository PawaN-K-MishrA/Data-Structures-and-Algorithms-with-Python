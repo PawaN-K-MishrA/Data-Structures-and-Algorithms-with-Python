{
 "cells": [
  {
   "cell_type": "markdown",
   "metadata": {},
   "source": [
    "## Swap Alternate\n",
    "Given an array of length N, swap every pair of alternate elements in the array.\n",
    "You don't need to print or return anything, just change in the input array itself.\n",
    "\n",
    "####  Input Format :\n",
    "Line 1 : An Integer N(size of the array) <br>\n",
    "Line 2 : N integers which are elements of the array, separated by a single space\n",
    "Output Format :\n",
    "Elements after swapping in a single line, separated by a single space.\n",
    "\n",
    "#### Sample Input :\n",
    "10 <br>\n",
    "41 67 34 0 69 24 78 58 62 64 \n",
    "\n",
    "#### Sample Output :\n",
    "67 41 0 34 24 69 58 78 64 62 "
   ]
  },
  {
   "cell_type": "code",
   "execution_count": 1,
   "metadata": {},
   "outputs": [
    {
     "name": "stdout",
     "output_type": "stream",
     "text": [
      "10\n",
      "41 67 34 0 69 24 78 58 62 64\n",
      "67 41 0 34 24 69 58 78 64 62 "
     ]
    }
   ],
   "source": [
    "def swap_alternate(n,li):\n",
    "    for i in range(0,n,2):\n",
    "        if i==len(li)-1:\n",
    "            break\n",
    "        li[i],li[i+1]=li[i+1],li[i]\n",
    "\n",
    "n=int(input())\n",
    "li=[int(x) for x in input().split()]\n",
    "\n",
    "if n==0:\n",
    "    pass\n",
    "else:\n",
    "    swap_alternate(n,li)\n",
    "    for i in li:\n",
    "        print(i,end=\" \")"
   ]
  }
 ],
 "metadata": {
  "kernelspec": {
   "display_name": "Python 3",
   "language": "python",
   "name": "python3"
  },
  "language_info": {
   "codemirror_mode": {
    "name": "ipython",
    "version": 3
   },
   "file_extension": ".py",
   "mimetype": "text/x-python",
   "name": "python",
   "nbconvert_exporter": "python",
   "pygments_lexer": "ipython3",
   "version": "3.7.3"
  }
 },
 "nbformat": 4,
 "nbformat_minor": 2
}
