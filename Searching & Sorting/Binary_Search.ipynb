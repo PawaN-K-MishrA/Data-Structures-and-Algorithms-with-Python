{
 "cells": [
  {
   "cell_type": "markdown",
   "metadata": {},
   "source": [
    "## Binary Search\n",
    "Given a sorted integer array (in ascending order) and an element \"X\". You need to search this element \"X\" in the given input array using Binary Search. Return the index of element in the input. Return -1 if \"X\" is not present in the input array.\n",
    "#### Input format :\n",
    "Line 1 : Integer N, Array Size    \n",
    "Line 2 : Elements of the array separated by single space    \n",
    "Line 3 : Element to be searched (i.e. X)\n",
    "#### Output Format :\n",
    "Index of 'X' if found. Otherwise, '-1'"
   ]
  },
  {
   "cell_type": "markdown",
   "metadata": {},
   "source": [
    "## Algorithm\n",
    "Since the array is sorted (in increasing order), we can directly go to the middle element,\n",
    "compare it with the element we wish to find (x in this case) and then do the following.\n",
    "1. If middle element is equal to x, return that element’s index.\n",
    "2. If middle element is less than x, we’ll do the search in the right half of the array.\n",
    "3. If middle element is more than x, we’ll do the search in the left half of the array.\n",
    "To implement this approach, we’ll maintain the two pointers; start and end. Initially\n",
    "start would point to the first element of array, and end would point to the last element\n",
    "of the array.\n",
    "We’ll find the middle index by doing (start+end)/2 and assigning it to an element\n",
    "called mid. Then, we’ll begin the search. First we’ll compare arr[mid] with x. Three\n",
    "scenarios will arise:\n",
    "1. arr[mid] = x -: This means we’ve found the element and we can return\n",
    "mid straight away.\n",
    "2. arr[mid] < x : This means that the element will not exist in the left half of\n",
    "the array, and may exist in the right half so we’ll update start to mid+1 and\n",
    "continue the search\n",
    "3. arr[mid] > x : This means that the element will not exist in the right half\n",
    "of the array, and may exist in the left half so we’ll update end to mid-1 and\n",
    "continue the search"
   ]
  },
  {
   "cell_type": "code",
   "execution_count": 1,
   "metadata": {},
   "outputs": [
    {
     "name": "stdout",
     "output_type": "stream",
     "text": [
      "5\n",
      "4 8 11 13 15\n",
      "13\n"
     ]
    },
    {
     "data": {
      "text/plain": [
       "3"
      ]
     },
     "execution_count": 1,
     "metadata": {},
     "output_type": "execute_result"
    }
   ],
   "source": [
    "def binarySearch(li,x):\n",
    "    start=0\n",
    "    end=n-1\n",
    "    while start<=end:\n",
    "        mid=(start+end)//2\n",
    "        if li[mid]==x:\n",
    "            return mid\n",
    "        elif li[mid]>x:\n",
    "            end=mid-1\n",
    "        elif li[mid]<x:\n",
    "            start=mid+1\n",
    "    else:\n",
    "        return -1\n",
    "# main\n",
    "n=int(input())\n",
    "li=[int(x) for x in input().split()]\n",
    "x=int(input())\n",
    "\n",
    "binarySearch(li,x)"
   ]
  }
 ],
 "metadata": {
  "kernelspec": {
   "display_name": "Python 3",
   "language": "python",
   "name": "python3"
  },
  "language_info": {
   "codemirror_mode": {
    "name": "ipython",
    "version": 3
   },
   "file_extension": ".py",
   "mimetype": "text/x-python",
   "name": "python",
   "nbconvert_exporter": "python",
   "pygments_lexer": "ipython3",
   "version": "3.7.3"
  }
 },
 "nbformat": 4,
 "nbformat_minor": 2
}
