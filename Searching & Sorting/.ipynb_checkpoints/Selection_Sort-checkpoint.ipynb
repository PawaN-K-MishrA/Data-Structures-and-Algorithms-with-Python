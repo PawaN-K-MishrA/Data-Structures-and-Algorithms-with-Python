{
 "cells": [
  {
   "cell_type": "markdown",
   "metadata": {},
   "source": [
    "## Selection Sort\n",
    "Provided with a random integer array/list(ARR) of size N, you have been required to sort this array using 'Selection Sort'.\n",
    "##### Note:\n",
    "Change in the input array/list itself. You don't need to return or print the elements.\n",
    "#### Input format :\n",
    "Line 1 : Integer N, Array Size    \n",
    "Line 2 : Elements of the array separated by single space \n",
    "#### Output format :\n",
    "Print the elements of the array/list in sorted order separated by a single space.    "
   ]
  },
  {
   "cell_type": "code",
   "execution_count": 2,
   "metadata": {},
   "outputs": [
    {
     "name": "stdout",
     "output_type": "stream",
     "text": [
      "7\n",
      "2 13 4 1 3 6 28\n",
      "1 2 3 4 6 13 28 "
     ]
    }
   ],
   "source": [
    "n=int(input())\n",
    "li=[int(x) for x in input().split()]\n",
    "def selectionSort(li):\n",
    "    for i in range(len(li)-1):\n",
    "        for j in range(len(li)-1-i):\n",
    "            if li[j]>li[j+1]:\n",
    "                li[j],li[j+1]=li[j+1],li[j]\n",
    "selectionSort(li)\n",
    "for i in li:\n",
    "    print(i,end=\" \")"
   ]
  }
 ],
 "metadata": {
  "kernelspec": {
   "display_name": "Python 3",
   "language": "python",
   "name": "python3"
  },
  "language_info": {
   "codemirror_mode": {
    "name": "ipython",
    "version": 3
   },
   "file_extension": ".py",
   "mimetype": "text/x-python",
   "name": "python",
   "nbconvert_exporter": "python",
   "pygments_lexer": "ipython3",
   "version": "3.7.3"
  }
 },
 "nbformat": 4,
 "nbformat_minor": 2
}
