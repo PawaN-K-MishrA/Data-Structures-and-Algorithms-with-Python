{
 "cells": [
  {
   "cell_type": "markdown",
   "metadata": {},
   "source": [
    "## Merge Two Sorted Arrays\n",
    "You have been given two sorted arrays/lists(ARR1 and ARR2) of size M and N respectively, merge them into a third array/list such that the third array is also sorted.\n",
    "#### Input format :\n",
    "Line 1 : Integer M, Array 1 Size    \n",
    "Line 2 : Elements of the array 1 separated by single space    \n",
    "Line 3 : Integer N, Array 2 Size    \n",
    "Line 4 : Elements of the array 2 separated by single space \n",
    "#### Output format :\n",
    "Print the sorted array/list (of size M + N) in a single row, separated by a single space.  "
   ]
  },
  {
   "cell_type": "code",
   "execution_count": 1,
   "metadata": {},
   "outputs": [
    {
     "name": "stdout",
     "output_type": "stream",
     "text": [
      "3\n",
      "10 100 500\n",
      "7\n",
      "4 7 9 25 30 300 450\n",
      "4 7 9 10 25 30 100 300 450 500 "
     ]
    }
   ],
   "source": [
    "m=int(input())\n",
    "arr1=[int(x) for x in input().split()]\n",
    "n=int(input())\n",
    "arr2=[int(x) for x in input().split()]\n",
    "\n",
    "i=0\n",
    "j=0\n",
    "arr3=[]\n",
    "while i<len(arr1) and j<len(arr2):\n",
    "    if arr1[i]<arr2[j]:\n",
    "        arr3.append(arr1[i])\n",
    "        i+=1\n",
    "    else:\n",
    "        arr3.append(arr2[j])\n",
    "        j+=1\n",
    "while i<len(arr1):\n",
    "    arr3.append(arr1[i])\n",
    "    i+=1\n",
    "while j<len(arr2):\n",
    "    arr3.append(arr2[j])\n",
    "    j+=1\n",
    "for k in arr3:\n",
    "    print(k,end=\" \")"
   ]
  }
 ],
 "metadata": {
  "kernelspec": {
   "display_name": "Python 3",
   "language": "python",
   "name": "python3"
  },
  "language_info": {
   "codemirror_mode": {
    "name": "ipython",
    "version": 3
   },
   "file_extension": ".py",
   "mimetype": "text/x-python",
   "name": "python",
   "nbconvert_exporter": "python",
   "pygments_lexer": "ipython3",
   "version": "3.7.3"
  }
 },
 "nbformat": 4,
 "nbformat_minor": 2
}
